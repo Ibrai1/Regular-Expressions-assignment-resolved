{
 "cells": [
  {
   "cell_type": "code",
   "execution_count": null,
   "id": "55b4db9a",
   "metadata": {},
   "outputs": [],
   "source": [
    "Question 1-Write a Python program to replace all occurrences of a space, comma, or dot with a colon.\n",
    "Sample Text- 'Python Exercises, PHP exercises.'\n",
    "Expected Output: Python:Exercises::PHP:exercises:\n"
   ]
  },
  {
   "cell_type": "code",
   "execution_count": null,
   "id": "e25ecf35",
   "metadata": {},
   "outputs": [],
   "source": [
    "ANSWER:"
   ]
  },
  {
   "cell_type": "code",
   "execution_count": 4,
   "id": "c7905f5b",
   "metadata": {},
   "outputs": [
    {
     "name": "stdout",
     "output_type": "stream",
     "text": [
      "python:Exercise::PHP:exercise:\n"
     ]
    }
   ],
   "source": [
    "\n",
    "    import re\n",
    "    text = 'python Exercise, PHP exercise.'\n",
    "    print(re.sub(\"[ ,.]\", \":\", text))"
   ]
  },
  {
   "cell_type": "code",
   "execution_count": null,
   "id": "92657fd7",
   "metadata": {},
   "outputs": [],
   "source": [
    "QUESTION 2-Create a dataframe using the dictionary below and remove everything (commas (,), !, XXXX, ;, etc.) from the columns except words.\n",
    "Dictionary- {'SUMMARY' : ['hello, world!', 'XXXXX test', '123four, five:; six...']}\n",
    "Expected output-\n",
    "0      hello world\n",
    "1             test\n",
    "2    four five six\n"
   ]
  },
  {
   "cell_type": "code",
   "execution_count": null,
   "id": "6d3e50ba",
   "metadata": {},
   "outputs": [],
   "source": [
    "ANSWER:"
   ]
  },
  {
   "cell_type": "code",
   "execution_count": 12,
   "id": "dce0e563",
   "metadata": {},
   "outputs": [
    {
     "ename": "SyntaxError",
     "evalue": "invalid syntax. Perhaps you forgot a comma? (1484732180.py, line 5)",
     "output_type": "error",
     "traceback": [
      "\u001b[1;36m  Cell \u001b[1;32mIn[12], line 5\u001b[1;36m\u001b[0m\n\u001b[1;33m    df[ \"SUMMARY\" ] = df[ \"SUMMARY\" ].apply(lamda x:re.sub(r\"[^\\w\\s]\",\"\", x))\u001b[0m\n\u001b[1;37m                                            ^\u001b[0m\n\u001b[1;31mSyntaxError\u001b[0m\u001b[1;31m:\u001b[0m invalid syntax. Perhaps you forgot a comma?\n"
     ]
    }
   ],
   "source": [
    "import panda as p\n",
    "import re\n",
    "data= {\"SUMMARY\": [\"hello, world\", \"XXXXX test\", \"123four, five:; six...\"]}\n",
    "df = pd.dataframe(data)\n",
    "df[ \"SUMMARY\" ] = df[ \"SUMMARY\" ].apply(lamda x:re.sub(r\"[^\\w\\s]\",\"\", x))\n",
    "            "
   ]
  },
  {
   "cell_type": "code",
   "execution_count": null,
   "id": "42c80970",
   "metadata": {},
   "outputs": [],
   "source": [
    "Question 3- Create a function in python to find all words that are at least 4 characters long in a string. \n",
    "The use of the re.compile() method is mandatory."
   ]
  },
  {
   "cell_type": "code",
   "execution_count": null,
   "id": "4eddb8a1",
   "metadata": {},
   "outputs": [],
   "source": [
    "ANSWER:"
   ]
  },
  {
   "cell_type": "code",
   "execution_count": 22,
   "id": "8cb1996d",
   "metadata": {},
   "outputs": [],
   "source": [
    "import re\n",
    "def find_long_words(string):\n",
    "    pattern = re.compile(r\"\\b\\w{4}\\b\")\n",
    "    long_words = pattern.findall(string)\n",
    "    return long_words\n",
    "    result = find_long_words(string)\n",
    "    print (result)\n"
   ]
  },
  {
   "cell_type": "code",
   "execution_count": null,
   "id": "02edbc9e",
   "metadata": {},
   "outputs": [],
   "source": [
    "Question 4- Create a function in python to find all three, four, and five character words in a string.\n",
    "The use of the re.compile() method is mandatory.\n",
    "\n"
   ]
  },
  {
   "cell_type": "code",
   "execution_count": null,
   "id": "086e30dd",
   "metadata": {},
   "outputs": [],
   "source": [
    "ANSWER:"
   ]
  },
  {
   "cell_type": "code",
   "execution_count": 35,
   "id": "d70664dd",
   "metadata": {},
   "outputs": [
    {
     "ename": "SyntaxError",
     "evalue": "expected '(' (3293606491.py, line 2)",
     "output_type": "error",
     "traceback": [
      "\u001b[1;36m  Cell \u001b[1;32mIn[35], line 2\u001b[1;36m\u001b[0m\n\u001b[1;33m    def find words (string)\u001b[0m\n\u001b[1;37m             ^\u001b[0m\n\u001b[1;31mSyntaxError\u001b[0m\u001b[1;31m:\u001b[0m expected '('\n"
     ]
    }
   ],
   "source": [
    "import re\n",
    "def find words (string)\n",
    "pattern = re.compile(r\"\\b\\w{3,4,5}\\b\")\n",
    "matches = patern.findall(string)\n",
    "return words\n",
    "result = find words(string)\n",
    "print (result)\n"
   ]
  },
  {
   "cell_type": "code",
   "execution_count": null,
   "id": "6345efad",
   "metadata": {},
   "outputs": [],
   "source": [
    "Question 5- Create a function in Python to remove the parenthesis in a list of strings. The use of the re.compile() method is mandatory.\n",
    "Sample Text: [\"example (.com)\", \"hr@fliprobo (.com)\", \"github (.com)\", \"Hello (Data Science World)\", \"Data (Scientist)\"]\n",
    "Expected Output:\n",
    "example.com\n",
    "hr@fliprobo.com\n",
    "github.com\n",
    "Hello Data Science World\n"
   ]
  },
  {
   "cell_type": "code",
   "execution_count": null,
   "id": "d67bb6bc",
   "metadata": {},
   "outputs": [],
   "source": [
    "ANSWER:"
   ]
  },
  {
   "cell_type": "code",
   "execution_count": 62,
   "id": "4d510808",
   "metadata": {},
   "outputs": [
    {
     "ename": "IndentationError",
     "evalue": "unexpected indent (3153744728.py, line 5)",
     "output_type": "error",
     "traceback": [
      "\u001b[1;36m  Cell \u001b[1;32mIn[62], line 5\u001b[1;36m\u001b[0m\n\u001b[1;33m    Modified_string = re.sub(pattern, \"\",string)\u001b[0m\n\u001b[1;37m    ^\u001b[0m\n\u001b[1;31mIndentationError\u001b[0m\u001b[1;31m:\u001b[0m unexpected indent\n"
     ]
    }
   ],
   "source": [
    "import re\n",
    "def remove_parenthesis(strings):\n",
    "    pattern = re.compile(\"r\\(|\\)\")\n",
    "for string in strings: [\"example (.com)\", \"hr@fliprobo (.com)\",\"github (.com)\", \"Hello (Data Science World)\", \"Data (Scientist)\"]\n",
    "    Modified_string = re.sub(pattern, \"\",string)\n",
    "    Modified_strings.append(modified_string)\n",
    "    sample_text = [ \"example (.com)\", \"hr@flIMPORT"
   ]
  },
  {
   "cell_type": "code",
   "execution_count": null,
   "id": "09a61662",
   "metadata": {},
   "outputs": [],
   "source": [
    "Question 6- Write a python program to remove the parenthesis area from the text stored in the text file using Regular Expression.\n",
    "Sample Text: [\"example (.com)\",  \"hr@fliprobo (.com)\", \"github (.com)\", \"Hello (Data Science World)\", \"Data (Scientist)\"]\n",
    "Expected Output: [\"example\", \"hr@fliprobo\", \"github\", \"Hello\", \"Data\"]\n",
    "Note- Store give n sample text in the text file and then to remove the parenthesis area from the text.\n",
    "\n"
   ]
  },
  {
   "cell_type": "code",
   "execution_count": null,
   "id": "2a27bdaa",
   "metadata": {},
   "outputs": [],
   "source": [
    "ANSWER:"
   ]
  },
  {
   "cell_type": "code",
   "execution_count": 81,
   "id": "eff1ce48",
   "metadata": {},
   "outputs": [
    {
     "ename": "NameError",
     "evalue": "name 'file' is not defined",
     "output_type": "error",
     "traceback": [
      "\u001b[1;31m---------------------------------------------------------------------------\u001b[0m",
      "\u001b[1;31mNameError\u001b[0m                                 Traceback (most recent call last)",
      "Cell \u001b[1;32mIn[81], line 7\u001b[0m\n\u001b[0;32m      5\u001b[0m \u001b[38;5;66;03m# read the text file to store the variable's content with open( \"filename.txt\",\"r\") as file:\u001b[39;00m\n\u001b[0;32m      6\u001b[0m sample_text \u001b[38;5;241m=\u001b[39m [\u001b[38;5;124m\"\u001b[39m\u001b[38;5;124mexample (.com)\u001b[39m\u001b[38;5;124m\"\u001b[39m,  \u001b[38;5;124m\"\u001b[39m\u001b[38;5;124mhr@fliprobo (.com)\u001b[39m\u001b[38;5;124m\"\u001b[39m, \u001b[38;5;124m\"\u001b[39m\u001b[38;5;124mgithub (.com)\u001b[39m\u001b[38;5;124m\"\u001b[39m, \u001b[38;5;124m\"\u001b[39m\u001b[38;5;124mHello (Data Science World)\u001b[39m\u001b[38;5;124m\"\u001b[39m, \u001b[38;5;124m\"\u001b[39m\u001b[38;5;124mData (Scientist)\u001b[39m\u001b[38;5;124m\"\u001b[39m]\n\u001b[1;32m----> 7\u001b[0m text \u001b[38;5;241m=\u001b[39m file\u001b[38;5;241m.\u001b[39mread(strings)\n\u001b[0;32m      8\u001b[0m \u001b[38;5;66;03m# Use regular expressions to remove the parentheses area\u001b[39;00m\n\u001b[0;32m      9\u001b[0m new_text \u001b[38;5;241m=\u001b[39m re\u001b[38;5;241m.\u001b[39msub(\u001b[38;5;124mr\u001b[39m\u001b[38;5;124m\"\u001b[39m\u001b[38;5;124m\\\u001b[39m\u001b[38;5;124ms*\u001b[39m\u001b[38;5;124m\\\u001b[39m\u001b[38;5;124m([^)]*\u001b[39m\u001b[38;5;124m\\\u001b[39m\u001b[38;5;124m)\u001b[39m\u001b[38;5;124m\"\u001b[39m,\u001b[38;5;124m\"\u001b[39m\u001b[38;5;124m\"\u001b[39m, text)\n",
      "\u001b[1;31mNameError\u001b[0m: name 'file' is not defined"
     ]
    }
   ],
   "source": [
    "import re\n",
    "def remove_parentheses(strings):\n",
    "    pattern = re.compile (r\"\\s*\\([^)]*\\)\",\"\", text)\n",
    "    \n",
    "# read the text file to store the variable's content with open( \"filename.txt\",\"r\") as file:\n",
    "sample_text = [\"example (.com)\",  \"hr@fliprobo (.com)\", \"github (.com)\", \"Hello (Data Science World)\", \"Data (Scientist)\"]\n",
    "text = file.read(strings)\n",
    "# Use regular expressions to remove the parentheses area\n",
    "new_text = re.sub(r\"\\s*\\([^)]*\\)\",\"\", text)\n",
    "print(new_text)\n"
   ]
  },
  {
   "cell_type": "code",
   "execution_count": null,
   "id": "bf7a0511",
   "metadata": {},
   "outputs": [],
   "source": [
    "Question 7- Write a regular expression in Python to split a string into uppercase letters.\n",
    "Sample text: “ImportanceOfRegularExpressionsInPython”\n",
    "Expected Output: [‘Importance’, ‘Of’, ‘Regular’, ‘Expression’, ‘In’, ‘Python’]\n"
   ]
  },
  {
   "cell_type": "code",
   "execution_count": 85,
   "id": "c2a9b1a7",
   "metadata": {},
   "outputs": [
    {
     "name": "stdout",
     "output_type": "stream",
     "text": [
      "['Importance', 'Of', 'Regular', 'Expressions', 'In', 'Python']\n"
     ]
    }
   ],
   "source": [
    "import re\n",
    "text = \"ImportanceOfRegularExpressionsInPython\"\n",
    "print(re.findall('[A-Z][^A-Z]*', text))"
   ]
  },
  {
   "cell_type": "code",
   "execution_count": null,
   "id": "dc4b7ed9",
   "metadata": {},
   "outputs": [],
   "source": [
    "Question 8- Create a function in python to insert spaces between words starting with numbers.\n",
    "Sample Text: “RegularExpression1IsAn2ImportantTopic3InPython\"\n",
    "Expected Output: RegularExpression 1IsAn 2ImportantTopic 3InPython\n"
   ]
  },
  {
   "cell_type": "code",
   "execution_count": null,
   "id": "84bc076f",
   "metadata": {},
   "outputs": [],
   "source": [
    "ANSWER:"
   ]
  },
  {
   "cell_type": "code",
   "execution_count": 90,
   "id": "6f4e101c",
   "metadata": {},
   "outputs": [
    {
     "name": "stdout",
     "output_type": "stream",
     "text": [
      "RegularExpression1 IsAn2 ImportantTopic3 InPython\n"
     ]
    }
   ],
   "source": [
    "import re\n",
    "\n",
    "def insert_spaces(text):\n",
    "    pattern = r'(\\d+)([A-Za-z]+)'\n",
    "    result = re.sub(pattern, r'\\1 \\2', text)\n",
    "    return result\n",
    "text = \"RegularExpression1IsAn2ImportantTopic3InPython\"\n",
    "result = insert_spaces(text)\n",
    "print(result)"
   ]
  },
  {
   "cell_type": "code",
   "execution_count": null,
   "id": "c98892cf",
   "metadata": {},
   "outputs": [],
   "source": [
    "Question 9- Create a function in python to insert spaces between words starting with capital letters or with numbers.\n",
    "Sample Text: “RegularExpression1IsAn2ImportantTopic3InPython\"\n",
    "Expected Output:  RegularExpression 1 IsAn 2 ImportantTopic 3 InPython\n"
   ]
  },
  {
   "cell_type": "code",
   "execution_count": null,
   "id": "e29ceae4",
   "metadata": {},
   "outputs": [],
   "source": [
    "ANSWER:"
   ]
  },
  {
   "cell_type": "code",
   "execution_count": 104,
   "id": "69e5b7e1",
   "metadata": {},
   "outputs": [
    {
     "ename": "SyntaxError",
     "evalue": "'return' outside function (338512628.py, line 6)",
     "output_type": "error",
     "traceback": [
      "\u001b[1;36m  Cell \u001b[1;32mIn[104], line 6\u001b[1;36m\u001b[0m\n\u001b[1;33m    return result\u001b[0m\n\u001b[1;37m    ^\u001b[0m\n\u001b[1;31mSyntaxError\u001b[0m\u001b[1;31m:\u001b[0m 'return' outside function\n"
     ]
    }
   ],
   "source": [
    "import re\n",
    "\n",
    "def insert_space(text):\n",
    "    pattern = r'([A-Z][a-z0-9]+|\\d+)'\n",
    "    result = re.sub(patern, r' \\1', text)\n",
    "return result\n",
    "text = \"RegularExpression1IsAn2ImportantTopic3InPython\"\n",
    "result = insert_spaces(r' \\1', text)\n",
    "print (result)"
   ]
  },
  {
   "cell_type": "code",
   "execution_count": null,
   "id": "fd4eb538",
   "metadata": {},
   "outputs": [],
   "source": []
  },
  {
   "cell_type": "code",
   "execution_count": null,
   "id": "1da9c1a9",
   "metadata": {},
   "outputs": [],
   "source": [
    "Question 11- Write a Python program to match a string that contains only upper and lowercase letters, numbers, and underscores."
   ]
  },
  {
   "cell_type": "code",
   "execution_count": null,
   "id": "5551cf44",
   "metadata": {},
   "outputs": [],
   "source": [
    "ANSWER"
   ]
  },
  {
   "cell_type": "code",
   "execution_count": 107,
   "id": "710bf7c6",
   "metadata": {},
   "outputs": [
    {
     "ename": "SyntaxError",
     "evalue": "unterminated string literal (detected at line 3) (2849575827.py, line 3)",
     "output_type": "error",
     "traceback": [
      "\u001b[1;36m  Cell \u001b[1;32mIn[107], line 3\u001b[1;36m\u001b[0m\n\u001b[1;33m    pattrern = r'[a-zA-z0-9]+\u001b[0m\n\u001b[1;37m               ^\u001b[0m\n\u001b[1;31mSyntaxError\u001b[0m\u001b[1;31m:\u001b[0m unterminated string literal (detected at line 3)\n"
     ]
    }
   ],
   "source": [
    "import re\n",
    "def match_string(string):\n",
    "    pattrern = r'[a-zA-z0-9]+\n",
    "    result = re.match(pattern, string):\n",
    "        print(\"string to match or not\")"
   ]
  },
  {
   "cell_type": "code",
   "execution_count": null,
   "id": "37869ee3",
   "metadata": {},
   "outputs": [],
   "source": []
  }
 ],
 "metadata": {
  "kernelspec": {
   "display_name": "Python 3 (ipykernel)",
   "language": "python",
   "name": "python3"
  },
  "language_info": {
   "codemirror_mode": {
    "name": "ipython",
    "version": 3
   },
   "file_extension": ".py",
   "mimetype": "text/x-python",
   "name": "python",
   "nbconvert_exporter": "python",
   "pygments_lexer": "ipython3",
   "version": "3.11.4"
  }
 },
 "nbformat": 4,
 "nbformat_minor": 5
}
